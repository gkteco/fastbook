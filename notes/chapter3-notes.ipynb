{
 "cells": [
  {
   "cell_type": "code",
   "execution_count": 2,
   "id": "7dc5a277-1b16-45f0-bf55-67cecd256774",
   "metadata": {},
   "outputs": [
    {
     "name": "stderr",
     "output_type": "stream",
     "text": [
      "/Users/giannicrivello/personal-fastbook/env/lib/python3.9/site-packages/urllib3/__init__.py:35: NotOpenSSLWarning: urllib3 v2 only supports OpenSSL 1.1.1+, currently the 'ssl' module is compiled with 'LibreSSL 2.8.3'. See: https://github.com/urllib3/urllib3/issues/3020\n",
      "  warnings.warn(\n"
     ]
    }
   ],
   "source": [
    "import fastbook\n",
    "fastbook.setup_book()"
   ]
  },
  {
   "cell_type": "code",
   "execution_count": 3,
   "id": "4692cb6d-4ac7-41ce-ad8d-7517e2459dcf",
   "metadata": {},
   "outputs": [],
   "source": [
    "from fastai.vision.all import *\n",
    "from fastbook import *\n",
    "import fastai"
   ]
  },
  {
   "cell_type": "code",
   "execution_count": 3,
   "id": "e1064048-15c3-4ca9-89ba-5a201570e783",
   "metadata": {},
   "outputs": [],
   "source": [
    "path = untar_data(URLs.MNIST_SAMPLE)"
   ]
  },
  {
   "cell_type": "code",
   "execution_count": 4,
   "id": "155e5155-38ab-41fc-82c9-8cb7dbb7fbe5",
   "metadata": {},
   "outputs": [],
   "source": [
    "sevens = (path/\"train\"/\"7\").ls().sorted()\n",
    "threes = (path/\"train\"/\"3\").ls().sorted()"
   ]
  },
  {
   "cell_type": "code",
   "execution_count": 5,
   "id": "61206bc6-0e0a-4b9c-9cd0-0ed405483c4d",
   "metadata": {},
   "outputs": [],
   "source": [
    "seven_tensors = [tensor(Image.open(i)) for i in sevens]\n",
    "three_tensors = [tensor(Image.open(i)) for i in threes]"
   ]
  },
  {
   "cell_type": "code",
   "execution_count": 6,
   "id": "dcb9f80b-d3bc-422d-9a67-db065123a533",
   "metadata": {},
   "outputs": [
    {
     "data": {
      "text/plain": [
       "6265"
      ]
     },
     "execution_count": 6,
     "metadata": {},
     "output_type": "execute_result"
    }
   ],
   "source": [
    "len(seven_tensors)"
   ]
  },
  {
   "cell_type": "code",
   "execution_count": 7,
   "id": "75d676a7-02aa-4202-abed-53c89e0ff5df",
   "metadata": {},
   "outputs": [
    {
     "data": {
      "text/plain": [
       "torch.Size([28, 28])"
      ]
     },
     "execution_count": 7,
     "metadata": {},
     "output_type": "execute_result"
    }
   ],
   "source": [
    "seven_tensors[0].shape"
   ]
  },
  {
   "cell_type": "code",
   "execution_count": 8,
   "id": "b68c23ce-ac3c-4539-9604-1bd755470ae5",
   "metadata": {},
   "outputs": [
    {
     "name": "stdout",
     "output_type": "stream",
     "text": [
      "3\n",
      "torch.Size([4])\n"
     ]
    }
   ],
   "source": [
    "a = [\n",
    "    tensor([1,2,3,4]),\n",
    "    tensor([1,2,3,4]),\n",
    "    tensor([1,2,3,4])\n",
    "]\n",
    "print(len(a))\n",
    "print(a[0].shape)"
   ]
  },
  {
   "cell_type": "code",
   "execution_count": 9,
   "id": "22613674-9178-4cf5-a583-17f1b2b3f93d",
   "metadata": {},
   "outputs": [
    {
     "data": {
      "text/plain": [
       "torch.Size([3, 4])"
      ]
     },
     "execution_count": 9,
     "metadata": {},
     "output_type": "execute_result"
    }
   ],
   "source": [
    "stacked_a = torch.stack(a)\n",
    "stacked_a.shape"
   ]
  },
  {
   "cell_type": "code",
   "execution_count": 129,
   "id": "589261d5-d2a9-4751-8bfd-1be8377559d8",
   "metadata": {},
   "outputs": [
    {
     "ename": "NameError",
     "evalue": "name 'three_tensors' is not defined",
     "output_type": "error",
     "traceback": [
      "\u001b[0;31m---------------------------------------------------------------------------\u001b[0m",
      "\u001b[0;31mNameError\u001b[0m                                 Traceback (most recent call last)",
      "Cell \u001b[0;32mIn[129], line 1\u001b[0m\n\u001b[0;32m----> 1\u001b[0m stacked_threes \u001b[38;5;241m=\u001b[39m torch\u001b[38;5;241m.\u001b[39mstack(\u001b[43mthree_tensors\u001b[49m)\u001b[38;5;241m.\u001b[39mfloat() \u001b[38;5;241m/\u001b[39m \u001b[38;5;241m255\u001b[39m\n\u001b[1;32m      2\u001b[0m stacked_sevens \u001b[38;5;241m=\u001b[39m torch\u001b[38;5;241m.\u001b[39mstack(seven_tensors)\u001b[38;5;241m.\u001b[39mfloat() \u001b[38;5;241m/\u001b[39m \u001b[38;5;241m255\u001b[39m\n\u001b[1;32m      3\u001b[0m \u001b[38;5;28mprint\u001b[39m(\u001b[38;5;124mf\u001b[39m\u001b[38;5;124m\"\u001b[39m\u001b[38;5;124mstacked_threes shape: \u001b[39m\u001b[38;5;132;01m{\u001b[39;00mstacked_threes\u001b[38;5;241m.\u001b[39mshape\u001b[38;5;132;01m}\u001b[39;00m\u001b[38;5;124m\"\u001b[39m)\n",
      "\u001b[0;31mNameError\u001b[0m: name 'three_tensors' is not defined"
     ]
    }
   ],
   "source": [
    "stacked_threes = torch.stack(three_tensors).float() / 255\n",
    "stacked_sevens = torch.stack(seven_tensors).float() / 255\n",
    "print(f\"stacked_threes shape: {stacked_threes.shape}\")\n",
    "print(f\"stacked_sevens shape: {stacked_sevens.shape}\")"
   ]
  },
  {
   "cell_type": "code",
   "execution_count": 11,
   "id": "99811c35-8a7e-4273-98be-22bc2d9cf77f",
   "metadata": {},
   "outputs": [
    {
     "data": {
      "text/plain": [
       "<Axes: >"
      ]
     },
     "execution_count": 11,
     "metadata": {},
     "output_type": "execute_result"
    },
    {
     "data": {
      "image/png": "[encoded data removed]",
      "text/plain": [
       "<Figure size 100x100 with 1 Axes>"
      ]
     },
     "metadata": {},
     "output_type": "display_data"
    }
   ],
   "source": [
    "mean_three = stacked_threes.mean(0)\n",
    "show_image(mean_three, cmap=\"grey\")"
   ]
  },
  {
   "cell_type": "code",
   "execution_count": 12,
   "id": "eb2e8f73-005c-4320-b304-715cd20b9d43",
   "metadata": {},
   "outputs": [
    {
     "data": {
      "text/plain": [
       "<Axes: >"
      ]
     },
     "execution_count": 12,
     "metadata": {},
     "output_type": "execute_result"
    },
    {
     "data": {
      "image/png": "[encoded data removed]",
      "text/plain": [
       "<Figure size 100x100 with 1 Axes>"
      ]
     },
     "metadata": {},
     "output_type": "display_data"
    }
   ],
   "source": [
    "mean_seven = stacked_sevens.mean(0)\n",
    "show_image(mean_seven, cmap=\"grey\")"
   ]
  },
  {
   "cell_type": "code",
   "execution_count": null,
   "id": "883d7fdc-47f2-4de9-b825-1983ed89ceb5",
   "metadata": {},
   "outputs": [],
   "source": []
  },
  {
   "cell_type": "code",
   "execution_count": 13,
   "id": "144b7afc-ba5c-4f2a-82fb-88af9055b1f3",
   "metadata": {},
   "outputs": [],
   "source": [
    "test_three = threes[100]\n",
    "def is_three(img):\n",
    "    img = tensor(Image.open(img)).float() / 255\n",
    "    seven_score = abs((mean_seven - img)).mean()\n",
    "    print(f\"seven score: {seven_score}\")\n",
    "    three_score = abs((mean_three - img)).mean()\n",
    "    print(f\"three score: {three_score}\")\n",
    "    if seven_score > three_score:\n",
    "        return True\n",
    "    else:\n",
    "        return False"
   ]
  },
  {
   "cell_type": "code",
   "execution_count": 14,
   "id": "1db0afa4-b4b8-4adb-abd4-9d02f18c16fa",
   "metadata": {},
   "outputs": [
    {
     "name": "stdout",
     "output_type": "stream",
     "text": [
      "seven score: 0.16476981341838837\n",
      "three score: 0.14399386942386627\n"
     ]
    },
    {
     "data": {
      "text/plain": [
       "True"
      ]
     },
     "execution_count": 14,
     "metadata": {},
     "output_type": "execute_result"
    }
   ],
   "source": [
    "is_three(test_three)"
   ]
  },
  {
   "cell_type": "code",
   "execution_count": 15,
   "id": "020be9a8-f433-4b2f-917b-79d28bee01e6",
   "metadata": {},
   "outputs": [],
   "source": [
    "valid_threes = torch.stack([tensor(Image.open(i)) for i in (path/\"valid\"/\"3\").ls().sorted()]).float() / 255\n",
    "valid_sevens = torch.stack([tensor(Image.open(i)) for i in (path/\"valid\"/\"7\").ls().sorted()]).float() / 255"
   ]
  },
  {
   "cell_type": "code",
   "execution_count": 16,
   "id": "08710bef-bfaf-4373-9da6-a2bab8e5863c",
   "metadata": {},
   "outputs": [
    {
     "name": "stdout",
     "output_type": "stream",
     "text": [
      "tensor(0.1280)\n",
      "tensor(0.1537)\n"
     ]
    }
   ],
   "source": [
    "def mnist_distance(preds, acts): return (preds - acts).abs().mean((-1, -2))\n",
    "print(mnist_distance(valid_threes[0], mean_three))\n",
    "print(mnist_distance(valid_sevens[0], mean_three))"
   ]
  },
  {
   "cell_type": "code",
   "execution_count": 17,
   "id": "2e7c35ce-303a-4e36-9b6a-1ffcdc48d70d",
   "metadata": {},
   "outputs": [
    {
     "data": {
      "text/plain": [
       "tensor([0.1280, 0.1623, 0.1242,  ..., 0.1508, 0.1263, 0.1260])"
      ]
     },
     "execution_count": 17,
     "metadata": {},
     "output_type": "execute_result"
    }
   ],
   "source": [
    "mnist_distance(valid_threes, mean_three)"
   ]
  },
  {
   "cell_type": "code",
   "execution_count": 18,
   "id": "5f145ad4-ace6-44d5-b629-5c8c1d0e1c2e",
   "metadata": {},
   "outputs": [],
   "source": [
    "def is_3(x): return mnist_distance(x, mean_three) < mnist_distance(x, mean_seven)"
   ]
  },
  {
   "cell_type": "code",
   "execution_count": 19,
   "id": "8f2fcb98-e68e-4086-907c-94ab1aa24305",
   "metadata": {},
   "outputs": [
    {
     "data": {
      "text/plain": [
       "(tensor(0.9168), tensor(0.9854), tensor(0.9511))"
      ]
     },
     "execution_count": 19,
     "metadata": {},
     "output_type": "execute_result"
    }
   ],
   "source": [
    "accuracy_threes = is_3(valid_threes).float().mean()\n",
    "accuracy_sevens = (1-is_3(valid_sevens).float()).mean()\n",
    "accuracy_threes, accuracy_sevens, (accuracy_threes+accuracy_sevens) / 2"
   ]
  },
  {
   "cell_type": "code",
   "execution_count": 20,
   "id": "82a1bbfa-dc31-4543-b483-8a5989c070ff",
   "metadata": {},
   "outputs": [],
   "source": [
    "train_x = torch.cat([stacked_threes, stacked_sevens]).view(-1, 28*28)"
   ]
  },
  {
   "cell_type": "code",
   "execution_count": 21,
   "id": "8828e26d-f7d6-432c-9700-788b5a7b8f54",
   "metadata": {},
   "outputs": [
    {
     "data": {
      "text/plain": [
       "torch.Size([12396, 784])"
      ]
     },
     "execution_count": 21,
     "metadata": {},
     "output_type": "execute_result"
    }
   ],
   "source": [
    "train_x.shape"
   ]
  },
  {
   "cell_type": "code",
   "execution_count": 22,
   "id": "36b99307-49f8-430b-882b-76b244e6689b",
   "metadata": {},
   "outputs": [
    {
     "data": {
      "text/plain": [
       "tensor([[1],\n",
       "        [1],\n",
       "        [1],\n",
       "        ...,\n",
       "        [0],\n",
       "        [0],\n",
       "        [0]])"
      ]
     },
     "execution_count": 22,
     "metadata": {},
     "output_type": "execute_result"
    }
   ],
   "source": [
    "train_y = tensor([1]*len(threes) + [0]*len(sevens)).unsqueeze(1)\n",
    "train_y"
   ]
  },
  {
   "cell_type": "code",
   "execution_count": 23,
   "id": "c8be8992-f4ee-456c-b620-17a417ad8cbc",
   "metadata": {},
   "outputs": [],
   "source": [
    "dset = list(zip(train_x, train_y))"
   ]
  },
  {
   "cell_type": "code",
   "execution_count": 24,
   "id": "d7c06c86-3cdf-4e7f-92b4-bbd42b192000",
   "metadata": {},
   "outputs": [],
   "source": [
    "valid_x = torch.cat([valid_threes, valid_sevens]).view(-1, 28*28)\n",
    "valid_y = tensor([1]*len(valid_threes) + [0]*len(valid_sevens)).unsqueeze(1)"
   ]
  },
  {
   "cell_type": "code",
   "execution_count": 25,
   "id": "7603d95b-6973-4f8e-8aff-ad7dc0633bfa",
   "metadata": {},
   "outputs": [],
   "source": [
    "valid_dset = list(zip(valid_x, valid_y))"
   ]
  },
  {
   "cell_type": "code",
   "execution_count": 26,
   "id": "fbc0b88e-10a5-4b19-9874-22270f08e391",
   "metadata": {},
   "outputs": [],
   "source": [
    "def init_params(size, std=1.0): return (torch.randn(size)).requires_grad_()"
   ]
  },
  {
   "cell_type": "code",
   "execution_count": 27,
   "id": "4944b2f9-610a-4c86-903b-78c6f7c5a48e",
   "metadata": {},
   "outputs": [],
   "source": [
    "weights = init_params((28*28,1))"
   ]
  },
  {
   "cell_type": "code",
   "execution_count": 29,
   "id": "15b6edd1-2490-4dca-88b7-307a4ac9b064",
   "metadata": {},
   "outputs": [
    {
     "data": {
      "text/plain": [
       "torch.Size([784, 1])"
      ]
     },
     "execution_count": 29,
     "metadata": {},
     "output_type": "execute_result"
    }
   ],
   "source": [
    "weights.shape"
   ]
  },
  {
   "cell_type": "code",
   "execution_count": 30,
   "id": "62da73d0-2c6a-4980-b7d6-b84126af2ba8",
   "metadata": {},
   "outputs": [],
   "source": [
    "bias = init_params(1)"
   ]
  },
  {
   "cell_type": "code",
   "execution_count": 31,
   "id": "6226239a-0cdb-4ae3-beda-46bf2ce14b9a",
   "metadata": {},
   "outputs": [
    {
     "data": {
      "text/plain": [
       "tensor([-6.2330], grad_fn=<AddBackward0>)"
      ]
     },
     "execution_count": 31,
     "metadata": {},
     "output_type": "execute_result"
    }
   ],
   "source": [
    "# y=mx+b\n",
    "(train_x[0]*weights.T).sum() + bias"
   ]
  },
  {
   "cell_type": "code",
   "execution_count": 32,
   "id": "921c62bf-a64e-440a-a730-a848c9f157f8",
   "metadata": {},
   "outputs": [
    {
     "data": {
      "text/plain": [
       "(torch.Size([784]), torch.Size([784, 1]))"
      ]
     },
     "execution_count": 32,
     "metadata": {},
     "output_type": "execute_result"
    }
   ],
   "source": [
    "train_x[0].shape, weights.shape"
   ]
  },
  {
   "cell_type": "code",
   "execution_count": 33,
   "id": "a00f3261-d4aa-40ab-b75a-9f8b4be76cab",
   "metadata": {},
   "outputs": [
    {
     "data": {
      "text/plain": [
       "tensor([-6.2330], grad_fn=<AddBackward0>)"
      ]
     },
     "execution_count": 33,
     "metadata": {},
     "output_type": "execute_result"
    }
   ],
   "source": [
    "train_x[0] @ weights + bias"
   ]
  },
  {
   "cell_type": "code",
   "execution_count": 34,
   "id": "8978d9cb-0efb-48f6-bd31-2a2efd6ff993",
   "metadata": {},
   "outputs": [],
   "source": [
    "def linear1(x): return x@weights + bias"
   ]
  },
  {
   "cell_type": "code",
   "execution_count": 35,
   "id": "ea17be0a-d8cb-4a63-bb08-969c71e34ea8",
   "metadata": {},
   "outputs": [
    {
     "data": {
      "text/plain": [
       "tensor([[ -6.2330],\n",
       "        [-10.6388],\n",
       "        [-20.8865],\n",
       "        ...,\n",
       "        [-15.9176],\n",
       "        [ -1.6866],\n",
       "        [-11.3568]], grad_fn=<AddBackward0>)"
      ]
     },
     "execution_count": 35,
     "metadata": {},
     "output_type": "execute_result"
    }
   ],
   "source": [
    "preds = linear1(train_x)\n",
    "preds"
   ]
  },
  {
   "cell_type": "code",
   "execution_count": 36,
   "id": "a1550d20-23f1-4e18-bdfa-9418a6655dec",
   "metadata": {},
   "outputs": [
    {
     "data": {
      "text/plain": [
       "tensor(0.5380)"
      ]
     },
     "execution_count": 36,
     "metadata": {},
     "output_type": "execute_result"
    }
   ],
   "source": [
    "corrects = (preds>0).float() == train_y\n",
    "accuracy = corrects.float().mean()\n",
    "accuracy"
   ]
  },
  {
   "cell_type": "code",
   "execution_count": 37,
   "id": "05d7c44b-1aee-47fe-b720-80d0e3f4ebb0",
   "metadata": {},
   "outputs": [],
   "source": [
    "def mnist_loss(preds, acts):\n",
    "    preds = preds.sigmoid()\n",
    "    return torch.where(acts==1, 1-preds, preds).mean()"
   ]
  },
  {
   "cell_type": "code",
   "execution_count": 38,
   "id": "82f28977-dd64-417c-8737-fc9f147d8a81",
   "metadata": {},
   "outputs": [],
   "source": [
    "data = range(20)\n",
    "dsl = DataLoader(data, batch_size=5, shuffle=True)"
   ]
  },
  {
   "cell_type": "code",
   "execution_count": 39,
   "id": "512cc5a6-198b-4ac0-a27a-1388257fe0a8",
   "metadata": {},
   "outputs": [
    {
     "data": {
      "text/plain": [
       "[tensor([ 7, 17,  5,  9, 15]),\n",
       " tensor([19, 11, 10, 13,  2]),\n",
       " tensor([12,  0, 18, 16,  3]),\n",
       " tensor([ 1,  4,  6, 14,  8])]"
      ]
     },
     "execution_count": 39,
     "metadata": {},
     "output_type": "execute_result"
    }
   ],
   "source": [
    "list(dsl)"
   ]
  },
  {
   "cell_type": "code",
   "execution_count": 40,
   "id": "d1d42d99-ad30-4c3e-b98e-64d5986621b6",
   "metadata": {},
   "outputs": [],
   "source": [
    "weights = init_params((28*28,1))\n",
    "bias = init_params(1)"
   ]
  },
  {
   "cell_type": "code",
   "execution_count": 41,
   "id": "2e1ab39e-17bc-4d64-934b-6688449e80b2",
   "metadata": {},
   "outputs": [
    {
     "data": {
      "text/plain": [
       "(torch.Size([784, 1]), torch.Size([1]))"
      ]
     },
     "execution_count": 41,
     "metadata": {},
     "output_type": "execute_result"
    }
   ],
   "source": [
    "weights.shape,bias.shape"
   ]
  },
  {
   "cell_type": "code",
   "execution_count": 42,
   "id": "bc8a7d6a-060e-43f8-b4de-1b101ba6b20f",
   "metadata": {},
   "outputs": [],
   "source": [
    "dl = DataLoader(dset, batch_size=256)"
   ]
  },
  {
   "cell_type": "code",
   "execution_count": 43,
   "id": "88d112af-ac82-4e3d-850e-bf2091023fed",
   "metadata": {},
   "outputs": [],
   "source": [
    "xb, yb = first(dl)"
   ]
  },
  {
   "cell_type": "code",
   "execution_count": 44,
   "id": "81b21b85-97ba-4e57-b56c-7a4b19e4b1fd",
   "metadata": {},
   "outputs": [],
   "source": [
    "valid_dl = DataLoader(valid_dset, batch_size=256)"
   ]
  },
  {
   "cell_type": "code",
   "execution_count": 45,
   "id": "241da01d-15eb-4def-abd7-5ac8f38d092e",
   "metadata": {},
   "outputs": [
    {
     "data": {
      "text/plain": [
       "tensor([[15.7077],\n",
       "        [18.6850],\n",
       "        [16.2144],\n",
       "        [17.4726],\n",
       "        [18.2625]], grad_fn=<AddBackward0>)"
      ]
     },
     "execution_count": 45,
     "metadata": {},
     "output_type": "execute_result"
    }
   ],
   "source": [
    "preds = linear1(train_x[:5])\n",
    "preds"
   ]
  },
  {
   "cell_type": "code",
   "execution_count": 46,
   "id": "6ba9fe96-f6d8-4b25-b4bf-9f41d6e6e50b",
   "metadata": {},
   "outputs": [],
   "source": [
    "loss = mnist_loss(preds, train_y[:5])"
   ]
  },
  {
   "cell_type": "code",
   "execution_count": 47,
   "id": "6496b8af-3257-4c4c-9c78-80bf419cff6e",
   "metadata": {},
   "outputs": [],
   "source": [
    "loss.backward()"
   ]
  },
  {
   "cell_type": "code",
   "execution_count": 80,
   "id": "484e537f-2b9c-4fcd-9e2d-1bf17f292f29",
   "metadata": {},
   "outputs": [
    {
     "data": {
      "text/plain": [
       "torch.Size([784, 1])"
      ]
     },
     "execution_count": 80,
     "metadata": {},
     "output_type": "execute_result"
    }
   ],
   "source": [
    "weights.grad.shape"
   ]
  },
  {
   "cell_type": "code",
   "execution_count": 102,
   "id": "adf9d99d-16de-4d94-be37-b8f53686bda6",
   "metadata": {},
   "outputs": [],
   "source": [
    "def calc_grad(xb, yb, model):\n",
    "    preds = model(xb)\n",
    "    loss = mnist_loss(preds, yb)\n",
    "    loss.backward()"
   ]
  },
  {
   "cell_type": "code",
   "execution_count": 103,
   "id": "ecc8bec3-7b61-47d3-81d7-d77d3ec2eb38",
   "metadata": {},
   "outputs": [],
   "source": [
    "def train_epoch(model, params, lr):\n",
    "    for xb, yb in dl:\n",
    "        calc_grad(xb, yb, model)\n",
    "        for p in params:\n",
    "            p.data -= p.grad*lr\n",
    "            p.grad.zero_()    "
   ]
  },
  {
   "cell_type": "code",
   "execution_count": 104,
   "id": "a88f59b8-e80b-4a78-99d5-92a661034198",
   "metadata": {},
   "outputs": [],
   "source": [
    "def batch_accuracy(preds, acts):\n",
    "    preds = preds.sigmoid()\n",
    "    correct = (preds>0.5) == acts\n",
    "    return correct.float().mean()"
   ]
  },
  {
   "cell_type": "code",
   "execution_count": 105,
   "id": "5cc66eee-4551-4c4b-ba72-8e4aeca0deaf",
   "metadata": {},
   "outputs": [],
   "source": [
    "def valid_epoch(model):\n",
    "    accuracy = [batch_accuracy(model(xb), yb) for xb,yb in valid_dl]\n",
    "    return round(torch.stack(accuracy).float().mean().item(), 4)"
   ]
  },
  {
   "cell_type": "code",
   "execution_count": 106,
   "id": "a0eef091-48b5-44e3-a0f9-7f3d9b242226",
   "metadata": {},
   "outputs": [
    {
     "data": {
      "text/plain": [
       "0.6152"
      ]
     },
     "execution_count": 106,
     "metadata": {},
     "output_type": "execute_result"
    }
   ],
   "source": [
    "lr = 0.1\n",
    "params = (weights, bias)\n",
    "train_epoch(linear1, params, lr)\n",
    "valid_epoch(linear1)"
   ]
  },
  {
   "cell_type": "code",
   "execution_count": 107,
   "id": "c86baefc-072e-4d0e-b6d4-edb9abaa47d5",
   "metadata": {},
   "outputs": [
    {
     "name": "stdout",
     "output_type": "stream",
     "text": [
      "0.7353 0.7924 0.8266 0.8554 0.8716 0.8833 0.8976 0.9094 0.9172 0.9212 "
     ]
    }
   ],
   "source": [
    "for _ in range(10):\n",
    "    train_epoch(linear1, params, lr)\n",
    "    print(valid_epoch(linear1), end=\" \")"
   ]
  },
  {
   "cell_type": "code",
   "execution_count": 108,
   "id": "0b45163f-b9a7-4f4d-81f7-68fade2af915",
   "metadata": {},
   "outputs": [],
   "source": [
    "linear_model = nn.Linear(28*28,1)"
   ]
  },
  {
   "cell_type": "code",
   "execution_count": 114,
   "id": "0b58406a-7e70-4883-b64c-5d29b84e20a8",
   "metadata": {},
   "outputs": [
    {
     "data": {
      "text/plain": [
       "(torch.Size([1, 784]), torch.Size([1]))"
      ]
     },
     "execution_count": 114,
     "metadata": {},
     "output_type": "execute_result"
    }
   ],
   "source": [
    "w, b = linear_model.parameters()\n",
    "w.shape, b.shape"
   ]
  },
  {
   "cell_type": "code",
   "execution_count": 116,
   "id": "f6f4e023-8e05-4357-856a-1e56f4484cef",
   "metadata": {},
   "outputs": [],
   "source": [
    "class BasicOptm:\n",
    "    def __init__(self, params, lr): self.params,self.lr = list(params), lr\n",
    "\n",
    "    def step(self):\n",
    "        for p in self.params:\n",
    "            with torch.no_grad(): p.data -= p.grad*self.lr\n",
    "\n",
    "    def zero_grad(self):\n",
    "        for p in self.params:\n",
    "            with torch.no_grad(): p.grad.zero_()"
   ]
  },
  {
   "cell_type": "code",
   "execution_count": 117,
   "id": "023b50ed-dfac-4c96-9f4f-a0092a8a7f51",
   "metadata": {},
   "outputs": [],
   "source": [
    "opt = BasicOptm(linear_model.parameters(), lr)"
   ]
  },
  {
   "cell_type": "code",
   "execution_count": 71,
   "id": "db62cbff-1ff6-4e21-b5f3-076434d8cf0d",
   "metadata": {},
   "outputs": [],
   "source": [
    "def train_epoch(model):\n",
    "    for xb, yb in dl:\n",
    "        calc_grad(xb, yb, model)\n",
    "        opt.step()\n",
    "        opt.zero_grad()"
   ]
  },
  {
   "cell_type": "code",
   "execution_count": 124,
   "id": "29f4c33f-e8d4-4d0a-b577-29cc0125afdc",
   "metadata": {},
   "outputs": [],
   "source": [
    "def train_model(model, epochs):\n",
    "    for _ in range(epochs):\n",
    "        train_epoch(model)\n",
    "        print(valid_epoch(model), end=\" \")"
   ]
  },
  {
   "cell_type": "code",
   "execution_count": 125,
   "id": "4d5796e1-4def-4ef7-924a-43be6e1f66bf",
   "metadata": {},
   "outputs": [
    {
     "name": "stdout",
     "output_type": "stream",
     "text": [
      "0.605 0.8755 0.9341 0.9555 0.9624 "
     ]
    }
   ],
   "source": [
    "train_model(linear_model, 5)"
   ]
  },
  {
   "cell_type": "code",
   "execution_count": 133,
   "id": "e276f7e5-49b1-4b7c-838f-cda5b0babb1d",
   "metadata": {},
   "outputs": [
    {
     "name": "stdout",
     "output_type": "stream",
     "text": [
      "0.5615 0.8765 0.9355 0.9531 0.9634 "
     ]
    }
   ],
   "source": [
    "linear_model = nn.Linear(28*28,1)\n",
    "opt = SGD(linear_model.parameters(), lr)\n",
    "train_model(linear_model, 5)"
   ]
  },
  {
   "cell_type": "code",
   "execution_count": 134,
   "id": "30b8abc4-67d3-4651-ba92-bbdbe63524bf",
   "metadata": {},
   "outputs": [],
   "source": [
    "dls = DataLoaders(dl, valid_dl)"
   ]
  },
  {
   "cell_type": "code",
   "execution_count": 143,
   "id": "80e095c0-8207-4223-a903-1c3fc9766cb5",
   "metadata": {},
   "outputs": [],
   "source": [
    "learner = Learner(\n",
    "    dls, \n",
    "    nn.Linear(28*28,1), \n",
    "    loss_func=mnist_loss, \n",
    "    opt_func=SGD,\n",
    "    lr=0.1,\n",
    "    metrics=batch_accuracy\n",
    ")"
   ]
  },
  {
   "cell_type": "code",
   "execution_count": 144,
   "id": "de37a8db-c734-4277-b631-1df0b9bd0cf4",
   "metadata": {},
   "outputs": [
    {
     "data": {
      "text/html": [
       "\n",
       "<style>\n",
       "    /* Turns off some styling */\n",
       "    progress {\n",
       "        /* gets rid of default border in Firefox and Opera. */\n",
       "        border: none;\n",
       "        /* Needs to be in here for Safari polyfill so background images work as expected. */\n",
       "        background-size: auto;\n",
       "    }\n",
       "    progress:not([value]), progress:not([value])::-webkit-progress-bar {\n",
       "        background: repeating-linear-gradient(45deg, #7e7e7e, #7e7e7e 10px, #5c5c5c 10px, #5c5c5c 20px);\n",
       "    }\n",
       "    .progress-bar-interrupted, .progress-bar-interrupted::-webkit-progress-bar {\n",
       "        background: #F44336;\n",
       "    }\n",
       "</style>\n"
      ],
      "text/plain": [
       "<IPython.core.display.HTML object>"
      ]
     },
     "metadata": {},
     "output_type": "display_data"
    },
    {
     "data": {
      "text/html": [
       "<table border=\"1\" class=\"dataframe\">\n",
       "  <thead>\n",
       "    <tr style=\"text-align: left;\">\n",
       "      <th>epoch</th>\n",
       "      <th>train_loss</th>\n",
       "      <th>valid_loss</th>\n",
       "      <th>batch_accuracy</th>\n",
       "      <th>time</th>\n",
       "    </tr>\n",
       "  </thead>\n",
       "  <tbody>\n",
       "    <tr>\n",
       "      <td>0</td>\n",
       "      <td>0.230452</td>\n",
       "      <td>0.374028</td>\n",
       "      <td>0.530422</td>\n",
       "      <td>00:00</td>\n",
       "    </tr>\n",
       "    <tr>\n",
       "      <td>1</td>\n",
       "      <td>0.125223</td>\n",
       "      <td>0.186269</td>\n",
       "      <td>0.871933</td>\n",
       "      <td>00:00</td>\n",
       "    </tr>\n",
       "    <tr>\n",
       "      <td>2</td>\n",
       "      <td>0.084690</td>\n",
       "      <td>0.108785</td>\n",
       "      <td>0.935231</td>\n",
       "      <td>00:00</td>\n",
       "    </tr>\n",
       "    <tr>\n",
       "      <td>3</td>\n",
       "      <td>0.065710</td>\n",
       "      <td>0.080832</td>\n",
       "      <td>0.953386</td>\n",
       "      <td>00:00</td>\n",
       "    </tr>\n",
       "    <tr>\n",
       "      <td>4</td>\n",
       "      <td>0.055634</td>\n",
       "      <td>0.067251</td>\n",
       "      <td>0.963199</td>\n",
       "      <td>00:00</td>\n",
       "    </tr>\n",
       "  </tbody>\n",
       "</table>"
      ],
      "text/plain": [
       "<IPython.core.display.HTML object>"
      ]
     },
     "metadata": {},
     "output_type": "display_data"
    }
   ],
   "source": [
    "learner.fit(n_epoch=5)"
   ]
  },
  {
   "cell_type": "code",
   "execution_count": 148,
   "id": "ba6e408b-5778-49c5-9b32-9d413e020e7f",
   "metadata": {},
   "outputs": [],
   "source": [
    "simple_nn = nn.Sequential(\n",
    "    nn.Linear(28*28,30),\n",
    "    nn.ReLU(),\n",
    "    nn.Linear(30,1)\n",
    ")"
   ]
  },
  {
   "cell_type": "code",
   "execution_count": 151,
   "id": "01c24b5d-4b0b-4a8e-ba3a-a9b3d298dad6",
   "metadata": {},
   "outputs": [],
   "source": [
    "learner = Learner(\n",
    "    dls,\n",
    "    model=simple_nn,\n",
    "    loss_func=mnist_loss,\n",
    "    opt_func=SGD,\n",
    "    metrics=batch_accuracy\n",
    ")"
   ]
  },
  {
   "cell_type": "code",
   "execution_count": 152,
   "id": "c6ec9e0a-5764-428b-acf2-81e6cb4318ff",
   "metadata": {},
   "outputs": [
    {
     "data": {
      "text/html": [
       "\n",
       "<style>\n",
       "    /* Turns off some styling */\n",
       "    progress {\n",
       "        /* gets rid of default border in Firefox and Opera. */\n",
       "        border: none;\n",
       "        /* Needs to be in here for Safari polyfill so background images work as expected. */\n",
       "        background-size: auto;\n",
       "    }\n",
       "    progress:not([value]), progress:not([value])::-webkit-progress-bar {\n",
       "        background: repeating-linear-gradient(45deg, #7e7e7e, #7e7e7e 10px, #5c5c5c 10px, #5c5c5c 20px);\n",
       "    }\n",
       "    .progress-bar-interrupted, .progress-bar-interrupted::-webkit-progress-bar {\n",
       "        background: #F44336;\n",
       "    }\n",
       "</style>\n"
      ],
      "text/plain": [
       "<IPython.core.display.HTML object>"
      ]
     },
     "metadata": {},
     "output_type": "display_data"
    },
    {
     "data": {
      "text/html": [
       "<table border=\"1\" class=\"dataframe\">\n",
       "  <thead>\n",
       "    <tr style=\"text-align: left;\">\n",
       "      <th>epoch</th>\n",
       "      <th>train_loss</th>\n",
       "      <th>valid_loss</th>\n",
       "      <th>batch_accuracy</th>\n",
       "      <th>time</th>\n",
       "    </tr>\n",
       "  </thead>\n",
       "  <tbody>\n",
       "    <tr>\n",
       "      <td>0</td>\n",
       "      <td>0.325672</td>\n",
       "      <td>0.417584</td>\n",
       "      <td>0.504416</td>\n",
       "      <td>00:00</td>\n",
       "    </tr>\n",
       "    <tr>\n",
       "      <td>1</td>\n",
       "      <td>0.153408</td>\n",
       "      <td>0.231169</td>\n",
       "      <td>0.802748</td>\n",
       "      <td>00:00</td>\n",
       "    </tr>\n",
       "    <tr>\n",
       "      <td>2</td>\n",
       "      <td>0.084088</td>\n",
       "      <td>0.115013</td>\n",
       "      <td>0.917566</td>\n",
       "      <td>00:00</td>\n",
       "    </tr>\n",
       "    <tr>\n",
       "      <td>3</td>\n",
       "      <td>0.054664</td>\n",
       "      <td>0.077178</td>\n",
       "      <td>0.941119</td>\n",
       "      <td>00:00</td>\n",
       "    </tr>\n",
       "    <tr>\n",
       "      <td>4</td>\n",
       "      <td>0.041098</td>\n",
       "      <td>0.060145</td>\n",
       "      <td>0.956820</td>\n",
       "      <td>00:00</td>\n",
       "    </tr>\n",
       "  </tbody>\n",
       "</table>"
      ],
      "text/plain": [
       "<IPython.core.display.HTML object>"
      ]
     },
     "metadata": {},
     "output_type": "display_data"
    }
   ],
   "source": [
    "learner.fit(n_epoch=5, lr=0.1)"
   ]
  },
  {
   "cell_type": "code",
   "execution_count": 4,
   "id": "75a44979-041c-42b7-a1d4-82704d930a08",
   "metadata": {},
   "outputs": [],
   "source": [
    "path = untar_data(URLs.MNIST_SAMPLE)"
   ]
  },
  {
   "cell_type": "code",
   "execution_count": 5,
   "id": "cbb7287a-217b-4ce8-8ac5-2e2eb17292db",
   "metadata": {},
   "outputs": [
    {
     "data": {
      "text/plain": [
       "(#3) [Path('/Users/giannicrivello/.fastai/data/mnist_sample/valid'),Path('/Users/giannicrivello/.fastai/data/mnist_sample/labels.csv'),Path('/Users/giannicrivello/.fastai/data/mnist_sample/train')]"
      ]
     },
     "execution_count": 5,
     "metadata": {},
     "output_type": "execute_result"
    }
   ],
   "source": [
    "path.ls()"
   ]
  },
  {
   "cell_type": "code",
   "execution_count": 6,
   "id": "ec419e8f-fdc8-4529-a11b-d420ea146416",
   "metadata": {},
   "outputs": [],
   "source": [
    "train_threes = (path/\"train\"/\"3\").ls().sorted()\n",
    "train_sevens = (path/\"train\"/\"7\").ls().sorted()\n",
    "valid_threes = (path/\"valid\"/\"3\").ls().sorted()\n",
    "valid_sevens = (path/\"valid\"/\"7\").ls().sorted()"
   ]
  },
  {
   "cell_type": "code",
   "execution_count": 7,
   "id": "bf99acef-4bd2-479d-b031-bfc2544f2c55",
   "metadata": {},
   "outputs": [
    {
     "data": {
      "image/jpeg": "[encoded data removed]",
      "image/png": "[encoded data removed]",
      "text/plain": [
       "<PIL.PngImagePlugin.PngImageFile image mode=L size=28x28>"
      ]
     },
     "execution_count": 7,
     "metadata": {},
     "output_type": "execute_result"
    }
   ],
   "source": [
    "Image.open(train_threes[0])"
   ]
  },
  {
   "cell_type": "code",
   "execution_count": 110,
   "id": "81f4513c-0b4d-4a1b-9f0b-42c976af550f",
   "metadata": {},
   "outputs": [],
   "source": [
    "threes_data_train = torch.stack([tensor(Image.open(i)) for i in train_threes]).view(-1, 28*28).float() / 255\n",
    "sevens_data_train = torch.stack([tensor(Image.open(i)) for i in train_sevens]).view(-1, 28*28).float() / 255\n",
    "threes_data_valid = torch.stack([tensor(Image.open(i)) for i in valid_threes]).view(-1, 28*28).float() / 255\n",
    "sevens_data_valid = torch.stack([tensor(Image.open(i)) for i in valid_sevens]).view(-1, 28*28).float() / 255"
   ]
  },
  {
   "cell_type": "code",
   "execution_count": 111,
   "id": "1b8aebd2-2653-4071-9e76-e4e4f9ff5c62",
   "metadata": {},
   "outputs": [
    {
     "data": {
      "text/plain": [
       "torch.Size([6131, 784])"
      ]
     },
     "execution_count": 111,
     "metadata": {},
     "output_type": "execute_result"
    }
   ],
   "source": [
    "threes_data_train.shape"
   ]
  },
  {
   "cell_type": "code",
   "execution_count": 130,
   "id": "81b7b93a-6954-4cd7-9cd8-caab5f694894",
   "metadata": {},
   "outputs": [],
   "source": [
    "x_train = torch.cat([threes_data_train, sevens_data_train])\n",
    "y_train = tensor([0]*len(threes_data_train) + [1]*len(sevens_data_train)).unsqueeze(1)\n",
    "x_valid = torch.cat([threes_data_valid, sevens_data_valid])\n",
    "y_valid = tensor([0]*len(threes_data_valid) + [1]*len(sevens_data_valid)).unsqueeze(1)"
   ]
  },
  {
   "cell_type": "code",
   "execution_count": 131,
   "id": "3094c2fc-e360-484d-b80c-7f7327353beb",
   "metadata": {},
   "outputs": [],
   "source": [
    "dset_train = list(zip(x_train, y_train))\n",
    "dset_valid = list(zip(x_valid, y_valid))"
   ]
  },
  {
   "cell_type": "code",
   "execution_count": 132,
   "id": "16708e07-a872-4d78-b8e2-1e511d81d2ef",
   "metadata": {},
   "outputs": [],
   "source": [
    "dls = DataLoader(dset_train, batch_size=256, shuffle=True)\n",
    "dls_valid = DataLoader(dset_valid, batch_size=256, shuffle=True)"
   ]
  },
  {
   "cell_type": "code",
   "execution_count": 133,
   "id": "530e35bf-c98b-4e2f-98a6-f4d7e8c9d92f",
   "metadata": {},
   "outputs": [],
   "source": [
    "class BasicOptim:\n",
    "    def __init__(self, params, lr): self.params, self.lr = list(params), lr\n",
    "\n",
    "    def step(self):\n",
    "        for p in self.params:\n",
    "            with torch.no_grad(): p.data -= p.grad*self.lr\n",
    "                \n",
    "    def zero_grad(self):\n",
    "        for p in self.params: \n",
    "            with torch.no_grad(): p.grad.zero_()"
   ]
  },
  {
   "cell_type": "code",
   "execution_count": 134,
   "id": "2a6210cc-09a4-4199-9760-452b8dca2333",
   "metadata": {},
   "outputs": [],
   "source": [
    "def mnist_loss(preds, acts):\n",
    "    preds = preds.sigmoid()\n",
    "    return torch.where(acts==1, 1-preds, preds).mean()"
   ]
  },
  {
   "cell_type": "code",
   "execution_count": 135,
   "id": "2cecbc4c-a792-43c2-a8c7-a7dee110b668",
   "metadata": {},
   "outputs": [],
   "source": [
    "def calc_grads(xb, yb, model):\n",
    "    preds = model(xb)\n",
    "    loss = mnist_loss(preds, yb)\n",
    "    loss.backward()\n",
    "    return loss"
   ]
  },
  {
   "cell_type": "code",
   "execution_count": 136,
   "id": "2482dd23-1ef4-4053-bf33-39556f92e769",
   "metadata": {},
   "outputs": [],
   "source": [
    "def train_epoch(model):\n",
    "    for xb, yb in dls:\n",
    "        loss = calc_grads(xb, yb, model)\n",
    "        opt.step()\n",
    "        # opt.zero_grad()\n",
    "    print(f\"loss for epoch; {loss.mean().item()}\")"
   ]
  },
  {
   "cell_type": "code",
   "execution_count": 137,
   "id": "594615e4-6470-4f61-bb3f-8a777e72cd98",
   "metadata": {},
   "outputs": [],
   "source": [
    "def batch_accuracy(preds, acts):\n",
    "    preds = preds.sigmoid()\n",
    "    correct = (preds>0.5) == acts\n",
    "    return correct.float().mean()"
   ]
  },
  {
   "cell_type": "code",
   "execution_count": 138,
   "id": "dddc859b-00de-4655-ae2c-5f27fed8515f",
   "metadata": {},
   "outputs": [],
   "source": [
    "def valid_epoch(model):\n",
    "    accuracy = [batch_accuracy(model(xb), yb) for xb,yb in valid_dl]\n",
    "    return round(torch.stack(accuracy).float().mean().item(), 4)"
   ]
  },
  {
   "cell_type": "code",
   "execution_count": 139,
   "id": "12241e43-70a9-4ce4-a00f-a7e29a4ea1b1",
   "metadata": {},
   "outputs": [],
   "source": [
    "def train_model(model, epochs):\n",
    "    for _ in range(epochs):\n",
    "        train_epoch(model)\n",
    "        print(valid_accuracy(model), end=\" \")"
   ]
  },
  {
   "cell_type": "code",
   "execution_count": 140,
   "id": "7578d4f5-365b-49e1-8206-2846e5ff7919",
   "metadata": {},
   "outputs": [],
   "source": [
    "linear_model = nn.Linear(28*28,1)\n",
    "lr=.1\n",
    "opt = BasicOptim(linear_model.parameters(), lr)"
   ]
  },
  {
   "cell_type": "code",
   "execution_count": 141,
   "id": "57462120-1f5a-4111-97a3-cf6e8c3b4132",
   "metadata": {},
   "outputs": [
    {
     "name": "stdout",
     "output_type": "stream",
     "text": [
      "loss for epoch; 0.0475819855928421\n",
      "0.9666 loss for epoch; 0.02777750790119171\n",
      "0.9686 loss for epoch; 0.01852165162563324\n",
      "0.9686 loss for epoch; 0.047687508165836334\n",
      "0.9696 loss for epoch; 0.00943410862237215\n",
      "0.9695 loss for epoch; 0.046263113617897034\n",
      "0.9696 loss for epoch; 1.664169569302343e-31\n",
      "0.9694 loss for epoch; 0.018518518656492233\n",
      "0.9701 loss for epoch; 0.02777777798473835\n",
      "0.9701 loss for epoch; 0.01884135976433754\n",
      "0.9696 "
     ]
    }
   ],
   "source": [
    "train_model(linear_model, 10)"
   ]
  },
  {
   "cell_type": "code",
   "execution_count": 142,
   "id": "dda026f8-8832-4b3a-9d7b-ede856b29321",
   "metadata": {},
   "outputs": [],
   "source": [
    "dls = DataLoaders(dls, dls_valid)"
   ]
  },
  {
   "cell_type": "code",
   "execution_count": 143,
   "id": "4e4c15e5-98ff-43b6-8980-e15a10267091",
   "metadata": {},
   "outputs": [],
   "source": [
    "learner = Learner(\n",
    "    dls, \n",
    "    nn.Linear(28*28,1), \n",
    "    loss_func=mnist_loss, \n",
    "    opt_func=SGD,\n",
    "    lr=0.1,\n",
    "    metrics=batch_accuracy\n",
    ")"
   ]
  },
  {
   "cell_type": "code",
   "execution_count": 144,
   "id": "9005f6b2-3251-4dc2-a154-90c5dbca9e71",
   "metadata": {},
   "outputs": [
    {
     "data": {
      "text/html": [
       "\n",
       "<style>\n",
       "    /* Turns off some styling */\n",
       "    progress {\n",
       "        /* gets rid of default border in Firefox and Opera. */\n",
       "        border: none;\n",
       "        /* Needs to be in here for Safari polyfill so background images work as expected. */\n",
       "        background-size: auto;\n",
       "    }\n",
       "    progress:not([value]), progress:not([value])::-webkit-progress-bar {\n",
       "        background: repeating-linear-gradient(45deg, #7e7e7e, #7e7e7e 10px, #5c5c5c 10px, #5c5c5c 20px);\n",
       "    }\n",
       "    .progress-bar-interrupted, .progress-bar-interrupted::-webkit-progress-bar {\n",
       "        background: #F44336;\n",
       "    }\n",
       "</style>\n"
      ],
      "text/plain": [
       "<IPython.core.display.HTML object>"
      ]
     },
     "metadata": {},
     "output_type": "display_data"
    },
    {
     "data": {
      "text/html": [
       "<table border=\"1\" class=\"dataframe\">\n",
       "  <thead>\n",
       "    <tr style=\"text-align: left;\">\n",
       "      <th>epoch</th>\n",
       "      <th>train_loss</th>\n",
       "      <th>valid_loss</th>\n",
       "      <th>batch_accuracy</th>\n",
       "      <th>time</th>\n",
       "    </tr>\n",
       "  </thead>\n",
       "  <tbody>\n",
       "    <tr>\n",
       "      <td>0</td>\n",
       "      <td>0.154831</td>\n",
       "      <td>0.094465</td>\n",
       "      <td>0.966143</td>\n",
       "      <td>00:00</td>\n",
       "    </tr>\n",
       "    <tr>\n",
       "      <td>1</td>\n",
       "      <td>0.098931</td>\n",
       "      <td>0.070071</td>\n",
       "      <td>0.967615</td>\n",
       "      <td>00:00</td>\n",
       "    </tr>\n",
       "    <tr>\n",
       "      <td>2</td>\n",
       "      <td>0.075355</td>\n",
       "      <td>0.060304</td>\n",
       "      <td>0.968597</td>\n",
       "      <td>00:00</td>\n",
       "    </tr>\n",
       "    <tr>\n",
       "      <td>3</td>\n",
       "      <td>0.062390</td>\n",
       "      <td>0.054702</td>\n",
       "      <td>0.969087</td>\n",
       "      <td>00:00</td>\n",
       "    </tr>\n",
       "    <tr>\n",
       "      <td>4</td>\n",
       "      <td>0.054759</td>\n",
       "      <td>0.050898</td>\n",
       "      <td>0.969087</td>\n",
       "      <td>00:00</td>\n",
       "    </tr>\n",
       "  </tbody>\n",
       "</table>"
      ],
      "text/plain": [
       "<IPython.core.display.HTML object>"
      ]
     },
     "metadata": {},
     "output_type": "display_data"
    }
   ],
   "source": [
    "learner.fit(n_epoch=5)"
   ]
  },
  {
   "cell_type": "code",
   "execution_count": null,
   "id": "736136c9-dcde-4482-ba4a-4f868c08337f",
   "metadata": {},
   "outputs": [],
   "source": []
  }
 ],
 "metadata": {
  "kernelspec": {
   "display_name": "fastbook",
   "language": "python",
   "name": "env"
  },
  "language_info": {
   "codemirror_mode": {
    "name": "ipython",
    "version": 3
   },
   "file_extension": ".py",
   "mimetype": "text/x-python",
   "name": "python",
   "nbconvert_exporter": "python",
   "pygments_lexer": "ipython3",
   "version": "3.9.6"
  }
 },
 "nbformat": 4,
 "nbformat_minor": 5
}
