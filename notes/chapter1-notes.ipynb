{
 "cells": [
  {
   "cell_type": "code",
   "execution_count": null,
   "id": "f2a33424-b820-4109-a0f6-b893fc057ede",
   "metadata": {},
   "outputs": [],
   "source": []
  }
 ],
 "metadata": {
  "kernelspec": {
   "display_name": "",
   "name": ""
  },
  "language_info": {
   "name": ""
  }
 },
 "nbformat": 4,
 "nbformat_minor": 5
}
